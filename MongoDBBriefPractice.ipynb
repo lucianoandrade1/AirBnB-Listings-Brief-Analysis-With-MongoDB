{
 "cells": [
  {
   "cell_type": "markdown",
   "id": "67af32e6-249f-4c19-a3b8-26b21908d26f",
   "metadata": {},
   "source": [
    "# A brief analysis of Airbnb's semi-structured data with PyMongo.\n",
    "\n",
    "This practice is a brief analysis of a high volume of semi-structured data. I loaded a large set of publicly available real data into MongoDB and performed a quick analysis process using Python's map and reduce techniques. \n",
    "\n",
    "The data is available from the data source link:\n",
    "https://www.mongodb.com/docs/atlas/sample-data/sample-airbnb/#std-label-sample-airbnb"
   ]
  },
  {
   "cell_type": "code",
   "execution_count": 1,
   "id": "36114025-8481-4640-ab62-72ff01f32d4d",
   "metadata": {},
   "outputs": [
    {
     "data": {
      "text/plain": [
       "RendererRegistry.enable('mimetype')"
      ]
     },
     "execution_count": 1,
     "metadata": {},
     "output_type": "execute_result"
    }
   ],
   "source": [
    "#Let's import the required packages\n",
    "import pandas as pd\n",
    "import altair as alt\n",
    "from pymongo import MongoClient\n",
    "from bson.code import Code\n",
    "alt.renderers.enable('mimetype')"
   ]
  },
  {
   "cell_type": "code",
   "execution_count": 2,
   "id": "a664df47-7a77-4740-b012-55661282eb31",
   "metadata": {},
   "outputs": [
    {
     "name": "stdout",
     "output_type": "stream",
     "text": [
      "Connection Successful\n"
     ]
    }
   ],
   "source": [
    "#Let's connect in my local MongoDB. The Airbnb data were previously imported to MongoDB.\n",
    "client = MongoClient(\"mongodb://127.0.0.1:27017\")\n",
    "print(\"Connection Successful\")\n",
    "client.close()"
   ]
  },
  {
   "cell_type": "code",
   "execution_count": 3,
   "id": "1c0a5389-c883-45b4-aa93-b7d0dca75a03",
   "metadata": {},
   "outputs": [],
   "source": [
    "#Let's set the database and the collection to work with.\n",
    "dsadb = client.dsadb\n",
    "airbnbcollection = dsadb.airbnb"
   ]
  },
  {
   "cell_type": "code",
   "execution_count": 4,
   "id": "735b9c1f-a1df-42ef-9c5b-51c1b8839190",
   "metadata": {},
   "outputs": [
    {
     "data": {
      "text/html": [
       "<div>\n",
       "<style scoped>\n",
       "    .dataframe tbody tr th:only-of-type {\n",
       "        vertical-align: middle;\n",
       "    }\n",
       "\n",
       "    .dataframe tbody tr th {\n",
       "        vertical-align: top;\n",
       "    }\n",
       "\n",
       "    .dataframe thead th {\n",
       "        text-align: right;\n",
       "    }\n",
       "</style>\n",
       "<table border=\"1\" class=\"dataframe\">\n",
       "  <thead>\n",
       "    <tr style=\"text-align: right;\">\n",
       "      <th></th>\n",
       "      <th>_id</th>\n",
       "      <th>listing_url</th>\n",
       "      <th>name</th>\n",
       "      <th>summary</th>\n",
       "      <th>space</th>\n",
       "      <th>description</th>\n",
       "      <th>neighborhood_overview</th>\n",
       "      <th>notes</th>\n",
       "      <th>transit</th>\n",
       "      <th>access</th>\n",
       "      <th>...</th>\n",
       "      <th>review_scores.review_scores_accuracy</th>\n",
       "      <th>review_scores.review_scores_cleanliness</th>\n",
       "      <th>review_scores.review_scores_checkin</th>\n",
       "      <th>review_scores.review_scores_communication</th>\n",
       "      <th>review_scores.review_scores_location</th>\n",
       "      <th>review_scores.review_scores_value</th>\n",
       "      <th>review_scores.review_scores_rating</th>\n",
       "      <th>weekly_price</th>\n",
       "      <th>monthly_price</th>\n",
       "      <th>reviews_per_month</th>\n",
       "    </tr>\n",
       "  </thead>\n",
       "  <tbody>\n",
       "    <tr>\n",
       "      <th>0</th>\n",
       "      <td>10006546</td>\n",
       "      <td>https://www.airbnb.com/rooms/10006546</td>\n",
       "      <td>Ribeira Charming Duplex</td>\n",
       "      <td>Fantastic duplex apartment with three bedrooms...</td>\n",
       "      <td>Privileged views of the Douro River and Ribeir...</td>\n",
       "      <td>Fantastic duplex apartment with three bedrooms...</td>\n",
       "      <td>In the neighborhood of the river, you can find...</td>\n",
       "      <td>Lose yourself in the narrow streets and stairc...</td>\n",
       "      <td>Transport: • Metro station and S. Bento railwa...</td>\n",
       "      <td>We are always available to help guests. The ho...</td>\n",
       "      <td>...</td>\n",
       "      <td>9.0</td>\n",
       "      <td>9.0</td>\n",
       "      <td>10.0</td>\n",
       "      <td>10.0</td>\n",
       "      <td>10.0</td>\n",
       "      <td>9.0</td>\n",
       "      <td>89.0</td>\n",
       "      <td>NaN</td>\n",
       "      <td>NaN</td>\n",
       "      <td>NaN</td>\n",
       "    </tr>\n",
       "    <tr>\n",
       "      <th>1</th>\n",
       "      <td>10009999</td>\n",
       "      <td>https://www.airbnb.com/rooms/10009999</td>\n",
       "      <td>Horto flat with small garden</td>\n",
       "      <td>One bedroom + sofa-bed in quiet and bucolic ne...</td>\n",
       "      <td>Lovely one bedroom + sofa-bed in the living ro...</td>\n",
       "      <td>One bedroom + sofa-bed in quiet and bucolic ne...</td>\n",
       "      <td>This charming ground floor flat is located in ...</td>\n",
       "      <td>There´s a table in the living room now, that d...</td>\n",
       "      <td>Easy access to transport (bus, taxi, car) and ...</td>\n",
       "      <td></td>\n",
       "      <td>...</td>\n",
       "      <td>NaN</td>\n",
       "      <td>NaN</td>\n",
       "      <td>NaN</td>\n",
       "      <td>NaN</td>\n",
       "      <td>NaN</td>\n",
       "      <td>NaN</td>\n",
       "      <td>NaN</td>\n",
       "      <td>1492.00</td>\n",
       "      <td>4849.00</td>\n",
       "      <td>NaN</td>\n",
       "    </tr>\n",
       "    <tr>\n",
       "      <th>2</th>\n",
       "      <td>1001265</td>\n",
       "      <td>https://www.airbnb.com/rooms/1001265</td>\n",
       "      <td>Ocean View Waikiki Marina w/prkg</td>\n",
       "      <td>A short distance from Honolulu's billion dolla...</td>\n",
       "      <td>Great studio located on Ala Moana across the s...</td>\n",
       "      <td>A short distance from Honolulu's billion dolla...</td>\n",
       "      <td>You can breath ocean as well as aloha.</td>\n",
       "      <td></td>\n",
       "      <td>Honolulu does have a very good air conditioned...</td>\n",
       "      <td>Pool, hot tub and tennis</td>\n",
       "      <td>...</td>\n",
       "      <td>9.0</td>\n",
       "      <td>8.0</td>\n",
       "      <td>9.0</td>\n",
       "      <td>9.0</td>\n",
       "      <td>10.0</td>\n",
       "      <td>9.0</td>\n",
       "      <td>84.0</td>\n",
       "      <td>650.00</td>\n",
       "      <td>2150.00</td>\n",
       "      <td>NaN</td>\n",
       "    </tr>\n",
       "    <tr>\n",
       "      <th>3</th>\n",
       "      <td>10021707</td>\n",
       "      <td>https://www.airbnb.com/rooms/10021707</td>\n",
       "      <td>Private Room in Bushwick</td>\n",
       "      <td>Here exists a very cozy room for rent in a sha...</td>\n",
       "      <td></td>\n",
       "      <td>Here exists a very cozy room for rent in a sha...</td>\n",
       "      <td></td>\n",
       "      <td></td>\n",
       "      <td></td>\n",
       "      <td></td>\n",
       "      <td>...</td>\n",
       "      <td>10.0</td>\n",
       "      <td>10.0</td>\n",
       "      <td>10.0</td>\n",
       "      <td>10.0</td>\n",
       "      <td>8.0</td>\n",
       "      <td>8.0</td>\n",
       "      <td>100.0</td>\n",
       "      <td>NaN</td>\n",
       "      <td>NaN</td>\n",
       "      <td>NaN</td>\n",
       "    </tr>\n",
       "    <tr>\n",
       "      <th>4</th>\n",
       "      <td>10030955</td>\n",
       "      <td>https://www.airbnb.com/rooms/10030955</td>\n",
       "      <td>Apt Linda Vista Lagoa - Rio</td>\n",
       "      <td>Quarto com vista para a Lagoa Rodrigo de Freit...</td>\n",
       "      <td></td>\n",
       "      <td>Quarto com vista para a Lagoa Rodrigo de Freit...</td>\n",
       "      <td></td>\n",
       "      <td></td>\n",
       "      <td></td>\n",
       "      <td></td>\n",
       "      <td>...</td>\n",
       "      <td>NaN</td>\n",
       "      <td>NaN</td>\n",
       "      <td>NaN</td>\n",
       "      <td>NaN</td>\n",
       "      <td>NaN</td>\n",
       "      <td>NaN</td>\n",
       "      <td>NaN</td>\n",
       "      <td>NaN</td>\n",
       "      <td>NaN</td>\n",
       "      <td>NaN</td>\n",
       "    </tr>\n",
       "  </tbody>\n",
       "</table>\n",
       "<p>5 rows × 77 columns</p>\n",
       "</div>"
      ],
      "text/plain": [
       "        _id                            listing_url  \\\n",
       "0  10006546  https://www.airbnb.com/rooms/10006546   \n",
       "1  10009999  https://www.airbnb.com/rooms/10009999   \n",
       "2   1001265   https://www.airbnb.com/rooms/1001265   \n",
       "3  10021707  https://www.airbnb.com/rooms/10021707   \n",
       "4  10030955  https://www.airbnb.com/rooms/10030955   \n",
       "\n",
       "                               name  \\\n",
       "0           Ribeira Charming Duplex   \n",
       "1      Horto flat with small garden   \n",
       "2  Ocean View Waikiki Marina w/prkg   \n",
       "3          Private Room in Bushwick   \n",
       "4       Apt Linda Vista Lagoa - Rio   \n",
       "\n",
       "                                             summary  \\\n",
       "0  Fantastic duplex apartment with three bedrooms...   \n",
       "1  One bedroom + sofa-bed in quiet and bucolic ne...   \n",
       "2  A short distance from Honolulu's billion dolla...   \n",
       "3  Here exists a very cozy room for rent in a sha...   \n",
       "4  Quarto com vista para a Lagoa Rodrigo de Freit...   \n",
       "\n",
       "                                               space  \\\n",
       "0  Privileged views of the Douro River and Ribeir...   \n",
       "1  Lovely one bedroom + sofa-bed in the living ro...   \n",
       "2  Great studio located on Ala Moana across the s...   \n",
       "3                                                      \n",
       "4                                                      \n",
       "\n",
       "                                         description  \\\n",
       "0  Fantastic duplex apartment with three bedrooms...   \n",
       "1  One bedroom + sofa-bed in quiet and bucolic ne...   \n",
       "2  A short distance from Honolulu's billion dolla...   \n",
       "3  Here exists a very cozy room for rent in a sha...   \n",
       "4  Quarto com vista para a Lagoa Rodrigo de Freit...   \n",
       "\n",
       "                               neighborhood_overview  \\\n",
       "0  In the neighborhood of the river, you can find...   \n",
       "1  This charming ground floor flat is located in ...   \n",
       "2             You can breath ocean as well as aloha.   \n",
       "3                                                      \n",
       "4                                                      \n",
       "\n",
       "                                               notes  \\\n",
       "0  Lose yourself in the narrow streets and stairc...   \n",
       "1  There´s a table in the living room now, that d...   \n",
       "2                                                      \n",
       "3                                                      \n",
       "4                                                      \n",
       "\n",
       "                                             transit  \\\n",
       "0  Transport: • Metro station and S. Bento railwa...   \n",
       "1  Easy access to transport (bus, taxi, car) and ...   \n",
       "2  Honolulu does have a very good air conditioned...   \n",
       "3                                                      \n",
       "4                                                      \n",
       "\n",
       "                                              access  ...  \\\n",
       "0  We are always available to help guests. The ho...  ...   \n",
       "1                                                     ...   \n",
       "2                           Pool, hot tub and tennis  ...   \n",
       "3                                                     ...   \n",
       "4                                                     ...   \n",
       "\n",
       "  review_scores.review_scores_accuracy  \\\n",
       "0                                  9.0   \n",
       "1                                  NaN   \n",
       "2                                  9.0   \n",
       "3                                 10.0   \n",
       "4                                  NaN   \n",
       "\n",
       "  review_scores.review_scores_cleanliness review_scores.review_scores_checkin  \\\n",
       "0                                     9.0                                10.0   \n",
       "1                                     NaN                                 NaN   \n",
       "2                                     8.0                                 9.0   \n",
       "3                                    10.0                                10.0   \n",
       "4                                     NaN                                 NaN   \n",
       "\n",
       "  review_scores.review_scores_communication  \\\n",
       "0                                      10.0   \n",
       "1                                       NaN   \n",
       "2                                       9.0   \n",
       "3                                      10.0   \n",
       "4                                       NaN   \n",
       "\n",
       "  review_scores.review_scores_location review_scores.review_scores_value  \\\n",
       "0                                 10.0                               9.0   \n",
       "1                                  NaN                               NaN   \n",
       "2                                 10.0                               9.0   \n",
       "3                                  8.0                               8.0   \n",
       "4                                  NaN                               NaN   \n",
       "\n",
       "  review_scores.review_scores_rating weekly_price monthly_price  \\\n",
       "0                               89.0          NaN           NaN   \n",
       "1                                NaN      1492.00       4849.00   \n",
       "2                               84.0       650.00       2150.00   \n",
       "3                              100.0          NaN           NaN   \n",
       "4                                NaN          NaN           NaN   \n",
       "\n",
       "  reviews_per_month  \n",
       "0               NaN  \n",
       "1               NaN  \n",
       "2               NaN  \n",
       "3               NaN  \n",
       "4               NaN  \n",
       "\n",
       "[5 rows x 77 columns]"
      ]
     },
     "execution_count": 4,
     "metadata": {},
     "output_type": "execute_result"
    }
   ],
   "source": [
    "#One can retrieve the semi-structured data into a structured data like pandas dataframe.\n",
    "datapoints = list(airbnbcollection.find({}))\n",
    "df = pd.json_normalize(datapoints)\n",
    "df.head()"
   ]
  },
  {
   "cell_type": "code",
   "execution_count": 5,
   "id": "1ed9af35-ff9a-4c24-924b-bddc9953534f",
   "metadata": {},
   "outputs": [
    {
     "data": {
      "text/plain": [
       "5555"
      ]
     },
     "execution_count": 5,
     "metadata": {},
     "output_type": "execute_result"
    }
   ],
   "source": [
    "#One can count how many documents are in the dataset.\n",
    "airbnbcollection.count_documents({})"
   ]
  },
  {
   "cell_type": "code",
   "execution_count": 6,
   "id": "6aaa5a05-c2a5-444f-a954-f99493ee6f4f",
   "metadata": {},
   "outputs": [
    {
     "data": {
      "text/plain": [
       "(5555, 77)"
      ]
     },
     "execution_count": 6,
     "metadata": {},
     "output_type": "execute_result"
    }
   ],
   "source": [
    "# One can create a dataframe and check how many rows and columns.\n",
    "df.shape"
   ]
  },
  {
   "cell_type": "code",
   "execution_count": 7,
   "id": "caead410-b695-4d81-a43d-9c660735af9e",
   "metadata": {},
   "outputs": [
    {
     "data": {
      "text/html": [
       "<div>\n",
       "<style scoped>\n",
       "    .dataframe tbody tr th:only-of-type {\n",
       "        vertical-align: middle;\n",
       "    }\n",
       "\n",
       "    .dataframe tbody tr th {\n",
       "        vertical-align: top;\n",
       "    }\n",
       "\n",
       "    .dataframe thead th {\n",
       "        text-align: right;\n",
       "    }\n",
       "</style>\n",
       "<table border=\"1\" class=\"dataframe\">\n",
       "  <thead>\n",
       "    <tr style=\"text-align: right;\">\n",
       "      <th></th>\n",
       "      <th>property_type</th>\n",
       "      <th>cancellation_policy</th>\n",
       "    </tr>\n",
       "  </thead>\n",
       "  <tbody>\n",
       "    <tr>\n",
       "      <th>0</th>\n",
       "      <td>House</td>\n",
       "      <td>moderate</td>\n",
       "    </tr>\n",
       "    <tr>\n",
       "      <th>1</th>\n",
       "      <td>House</td>\n",
       "      <td>flexible</td>\n",
       "    </tr>\n",
       "    <tr>\n",
       "      <th>2</th>\n",
       "      <td>House</td>\n",
       "      <td>strict_14_with_grace_period</td>\n",
       "    </tr>\n",
       "    <tr>\n",
       "      <th>3</th>\n",
       "      <td>House</td>\n",
       "      <td>moderate</td>\n",
       "    </tr>\n",
       "    <tr>\n",
       "      <th>4</th>\n",
       "      <td>House</td>\n",
       "      <td>strict_14_with_grace_period</td>\n",
       "    </tr>\n",
       "    <tr>\n",
       "      <th>...</th>\n",
       "      <td>...</td>\n",
       "      <td>...</td>\n",
       "    </tr>\n",
       "    <tr>\n",
       "      <th>601</th>\n",
       "      <td>House</td>\n",
       "      <td>flexible</td>\n",
       "    </tr>\n",
       "    <tr>\n",
       "      <th>602</th>\n",
       "      <td>House</td>\n",
       "      <td>strict_14_with_grace_period</td>\n",
       "    </tr>\n",
       "    <tr>\n",
       "      <th>603</th>\n",
       "      <td>House</td>\n",
       "      <td>moderate</td>\n",
       "    </tr>\n",
       "    <tr>\n",
       "      <th>604</th>\n",
       "      <td>House</td>\n",
       "      <td>flexible</td>\n",
       "    </tr>\n",
       "    <tr>\n",
       "      <th>605</th>\n",
       "      <td>House</td>\n",
       "      <td>flexible</td>\n",
       "    </tr>\n",
       "  </tbody>\n",
       "</table>\n",
       "<p>606 rows × 2 columns</p>\n",
       "</div>"
      ],
      "text/plain": [
       "    property_type          cancellation_policy\n",
       "0           House                     moderate\n",
       "1           House                     flexible\n",
       "2           House  strict_14_with_grace_period\n",
       "3           House                     moderate\n",
       "4           House  strict_14_with_grace_period\n",
       "..            ...                          ...\n",
       "601         House                     flexible\n",
       "602         House  strict_14_with_grace_period\n",
       "603         House                     moderate\n",
       "604         House                     flexible\n",
       "605         House                     flexible\n",
       "\n",
       "[606 rows x 2 columns]"
      ]
     },
     "execution_count": 7,
     "metadata": {},
     "output_type": "execute_result"
    }
   ],
   "source": [
    "#One can filter specific documents and create a dataframe with them.\n",
    "pd.json_normalize(airbnbcollection.find({\"property_type\" : \"House\"},{\"property_type\" : True, \"cancellation_policy\" : True, \"_id\": False}))"
   ]
  },
  {
   "cell_type": "code",
   "execution_count": 8,
   "id": "3e282136-ecd7-4f46-b425-afaab33b77bf",
   "metadata": {},
   "outputs": [
    {
     "data": {
      "text/html": [
       "<div>\n",
       "<style scoped>\n",
       "    .dataframe tbody tr th:only-of-type {\n",
       "        vertical-align: middle;\n",
       "    }\n",
       "\n",
       "    .dataframe tbody tr th {\n",
       "        vertical-align: top;\n",
       "    }\n",
       "\n",
       "    .dataframe thead th {\n",
       "        text-align: right;\n",
       "    }\n",
       "</style>\n",
       "<table border=\"1\" class=\"dataframe\">\n",
       "  <thead>\n",
       "    <tr style=\"text-align: right;\">\n",
       "      <th></th>\n",
       "      <th>property_type</th>\n",
       "      <th>cancellation_policy</th>\n",
       "    </tr>\n",
       "  </thead>\n",
       "  <tbody>\n",
       "    <tr>\n",
       "      <th>0</th>\n",
       "      <td>House</td>\n",
       "      <td>super_strict_60</td>\n",
       "    </tr>\n",
       "    <tr>\n",
       "      <th>1</th>\n",
       "      <td>House</td>\n",
       "      <td>super_strict_60</td>\n",
       "    </tr>\n",
       "    <tr>\n",
       "      <th>2</th>\n",
       "      <td>House</td>\n",
       "      <td>super_strict_60</td>\n",
       "    </tr>\n",
       "    <tr>\n",
       "      <th>3</th>\n",
       "      <td>House</td>\n",
       "      <td>super_strict_60</td>\n",
       "    </tr>\n",
       "    <tr>\n",
       "      <th>4</th>\n",
       "      <td>House</td>\n",
       "      <td>super_strict_60</td>\n",
       "    </tr>\n",
       "    <tr>\n",
       "      <th>...</th>\n",
       "      <td>...</td>\n",
       "      <td>...</td>\n",
       "    </tr>\n",
       "    <tr>\n",
       "      <th>601</th>\n",
       "      <td>House</td>\n",
       "      <td>flexible</td>\n",
       "    </tr>\n",
       "    <tr>\n",
       "      <th>602</th>\n",
       "      <td>House</td>\n",
       "      <td>flexible</td>\n",
       "    </tr>\n",
       "    <tr>\n",
       "      <th>603</th>\n",
       "      <td>House</td>\n",
       "      <td>flexible</td>\n",
       "    </tr>\n",
       "    <tr>\n",
       "      <th>604</th>\n",
       "      <td>House</td>\n",
       "      <td>flexible</td>\n",
       "    </tr>\n",
       "    <tr>\n",
       "      <th>605</th>\n",
       "      <td>House</td>\n",
       "      <td>flexible</td>\n",
       "    </tr>\n",
       "  </tbody>\n",
       "</table>\n",
       "<p>606 rows × 2 columns</p>\n",
       "</div>"
      ],
      "text/plain": [
       "    property_type cancellation_policy\n",
       "0           House     super_strict_60\n",
       "1           House     super_strict_60\n",
       "2           House     super_strict_60\n",
       "3           House     super_strict_60\n",
       "4           House     super_strict_60\n",
       "..            ...                 ...\n",
       "601         House            flexible\n",
       "602         House            flexible\n",
       "603         House            flexible\n",
       "604         House            flexible\n",
       "605         House            flexible\n",
       "\n",
       "[606 rows x 2 columns]"
      ]
     },
     "execution_count": 8,
     "metadata": {},
     "output_type": "execute_result"
    }
   ],
   "source": [
    "#One can order these documents\n",
    "pd.json_normalize(airbnbcollection.find({\"property_type\" : \"House\"},\n",
    "                                        {\"property_type\" : True, \"cancellation_policy\" : True, \"_id\": False}).\\\n",
    "                                        sort(\"cancellation_policy\", -1))"
   ]
  },
  {
   "cell_type": "code",
   "execution_count": 9,
   "id": "de86cc3f-8939-4019-8d4e-385107420981",
   "metadata": {},
   "outputs": [
    {
     "data": {
      "text/html": [
       "<div>\n",
       "<style scoped>\n",
       "    .dataframe tbody tr th:only-of-type {\n",
       "        vertical-align: middle;\n",
       "    }\n",
       "\n",
       "    .dataframe tbody tr th {\n",
       "        vertical-align: top;\n",
       "    }\n",
       "\n",
       "    .dataframe thead th {\n",
       "        text-align: right;\n",
       "    }\n",
       "</style>\n",
       "<table border=\"1\" class=\"dataframe\">\n",
       "  <thead>\n",
       "    <tr style=\"text-align: right;\">\n",
       "      <th></th>\n",
       "      <th>Property_type</th>\n",
       "      <th>Count</th>\n",
       "      <th>Average</th>\n",
       "    </tr>\n",
       "  </thead>\n",
       "  <tbody>\n",
       "    <tr>\n",
       "      <th>0</th>\n",
       "      <td>Other</td>\n",
       "      <td>18</td>\n",
       "      <td>16.111111</td>\n",
       "    </tr>\n",
       "    <tr>\n",
       "      <th>1</th>\n",
       "      <td>Barn</td>\n",
       "      <td>1</td>\n",
       "      <td>19.000000</td>\n",
       "    </tr>\n",
       "    <tr>\n",
       "      <th>2</th>\n",
       "      <td>Heritage hotel (India)</td>\n",
       "      <td>1</td>\n",
       "      <td>0.000000</td>\n",
       "    </tr>\n",
       "    <tr>\n",
       "      <th>3</th>\n",
       "      <td>Loft</td>\n",
       "      <td>142</td>\n",
       "      <td>40.000000</td>\n",
       "    </tr>\n",
       "    <tr>\n",
       "      <th>4</th>\n",
       "      <td>Serviced apartment</td>\n",
       "      <td>185</td>\n",
       "      <td>12.843243</td>\n",
       "    </tr>\n",
       "    <tr>\n",
       "      <th>5</th>\n",
       "      <td>Tiny house</td>\n",
       "      <td>7</td>\n",
       "      <td>18.428571</td>\n",
       "    </tr>\n",
       "    <tr>\n",
       "      <th>6</th>\n",
       "      <td>Bungalow</td>\n",
       "      <td>14</td>\n",
       "      <td>37.285714</td>\n",
       "    </tr>\n",
       "    <tr>\n",
       "      <th>7</th>\n",
       "      <td>Train</td>\n",
       "      <td>1</td>\n",
       "      <td>89.000000</td>\n",
       "    </tr>\n",
       "    <tr>\n",
       "      <th>8</th>\n",
       "      <td>Casa particular (Cuba)</td>\n",
       "      <td>9</td>\n",
       "      <td>0.888889</td>\n",
       "    </tr>\n",
       "    <tr>\n",
       "      <th>9</th>\n",
       "      <td>Boutique hotel</td>\n",
       "      <td>53</td>\n",
       "      <td>17.603774</td>\n",
       "    </tr>\n",
       "    <tr>\n",
       "      <th>10</th>\n",
       "      <td>Condominium</td>\n",
       "      <td>399</td>\n",
       "      <td>28.200501</td>\n",
       "    </tr>\n",
       "    <tr>\n",
       "      <th>11</th>\n",
       "      <td>Chalet</td>\n",
       "      <td>2</td>\n",
       "      <td>16.000000</td>\n",
       "    </tr>\n",
       "    <tr>\n",
       "      <th>12</th>\n",
       "      <td>Boat</td>\n",
       "      <td>2</td>\n",
       "      <td>12.000000</td>\n",
       "    </tr>\n",
       "    <tr>\n",
       "      <th>13</th>\n",
       "      <td>Pension (South Korea)</td>\n",
       "      <td>1</td>\n",
       "      <td>32.000000</td>\n",
       "    </tr>\n",
       "    <tr>\n",
       "      <th>14</th>\n",
       "      <td>Castle</td>\n",
       "      <td>1</td>\n",
       "      <td>0.000000</td>\n",
       "    </tr>\n",
       "    <tr>\n",
       "      <th>15</th>\n",
       "      <td>Hotel</td>\n",
       "      <td>26</td>\n",
       "      <td>12.615385</td>\n",
       "    </tr>\n",
       "    <tr>\n",
       "      <th>16</th>\n",
       "      <td>Guest suite</td>\n",
       "      <td>81</td>\n",
       "      <td>50.666667</td>\n",
       "    </tr>\n",
       "    <tr>\n",
       "      <th>17</th>\n",
       "      <td>Earth house</td>\n",
       "      <td>1</td>\n",
       "      <td>1.000000</td>\n",
       "    </tr>\n",
       "    <tr>\n",
       "      <th>18</th>\n",
       "      <td>Farm stay</td>\n",
       "      <td>9</td>\n",
       "      <td>34.777778</td>\n",
       "    </tr>\n",
       "    <tr>\n",
       "      <th>19</th>\n",
       "      <td>Resort</td>\n",
       "      <td>11</td>\n",
       "      <td>8.909091</td>\n",
       "    </tr>\n",
       "    <tr>\n",
       "      <th>20</th>\n",
       "      <td>Campsite</td>\n",
       "      <td>1</td>\n",
       "      <td>47.000000</td>\n",
       "    </tr>\n",
       "    <tr>\n",
       "      <th>21</th>\n",
       "      <td>Apartment</td>\n",
       "      <td>3626</td>\n",
       "      <td>26.846111</td>\n",
       "    </tr>\n",
       "    <tr>\n",
       "      <th>22</th>\n",
       "      <td>Bed and breakfast</td>\n",
       "      <td>69</td>\n",
       "      <td>14.623188</td>\n",
       "    </tr>\n",
       "    <tr>\n",
       "      <th>23</th>\n",
       "      <td>House</td>\n",
       "      <td>606</td>\n",
       "      <td>29.363036</td>\n",
       "    </tr>\n",
       "    <tr>\n",
       "      <th>24</th>\n",
       "      <td>Hostel</td>\n",
       "      <td>34</td>\n",
       "      <td>15.411765</td>\n",
       "    </tr>\n",
       "    <tr>\n",
       "      <th>25</th>\n",
       "      <td>Villa</td>\n",
       "      <td>32</td>\n",
       "      <td>13.093750</td>\n",
       "    </tr>\n",
       "    <tr>\n",
       "      <th>26</th>\n",
       "      <td>Nature lodge</td>\n",
       "      <td>2</td>\n",
       "      <td>24.500000</td>\n",
       "    </tr>\n",
       "    <tr>\n",
       "      <th>27</th>\n",
       "      <td>Houseboat</td>\n",
       "      <td>1</td>\n",
       "      <td>2.000000</td>\n",
       "    </tr>\n",
       "    <tr>\n",
       "      <th>28</th>\n",
       "      <td>Treehouse</td>\n",
       "      <td>1</td>\n",
       "      <td>103.000000</td>\n",
       "    </tr>\n",
       "    <tr>\n",
       "      <th>29</th>\n",
       "      <td>Cabin</td>\n",
       "      <td>15</td>\n",
       "      <td>81.800000</td>\n",
       "    </tr>\n",
       "    <tr>\n",
       "      <th>30</th>\n",
       "      <td>Hut</td>\n",
       "      <td>1</td>\n",
       "      <td>4.000000</td>\n",
       "    </tr>\n",
       "    <tr>\n",
       "      <th>31</th>\n",
       "      <td>Cottage</td>\n",
       "      <td>20</td>\n",
       "      <td>47.750000</td>\n",
       "    </tr>\n",
       "    <tr>\n",
       "      <th>32</th>\n",
       "      <td>Camper/RV</td>\n",
       "      <td>2</td>\n",
       "      <td>0.500000</td>\n",
       "    </tr>\n",
       "    <tr>\n",
       "      <th>33</th>\n",
       "      <td>Guesthouse</td>\n",
       "      <td>50</td>\n",
       "      <td>59.040000</td>\n",
       "    </tr>\n",
       "    <tr>\n",
       "      <th>34</th>\n",
       "      <td>Aparthotel</td>\n",
       "      <td>23</td>\n",
       "      <td>14.217391</td>\n",
       "    </tr>\n",
       "    <tr>\n",
       "      <th>35</th>\n",
       "      <td>Townhouse</td>\n",
       "      <td>108</td>\n",
       "      <td>40.435185</td>\n",
       "    </tr>\n",
       "  </tbody>\n",
       "</table>\n",
       "</div>"
      ],
      "text/plain": [
       "             Property_type  Count     Average\n",
       "0                    Other     18   16.111111\n",
       "1                     Barn      1   19.000000\n",
       "2   Heritage hotel (India)      1    0.000000\n",
       "3                     Loft    142   40.000000\n",
       "4       Serviced apartment    185   12.843243\n",
       "5               Tiny house      7   18.428571\n",
       "6                 Bungalow     14   37.285714\n",
       "7                    Train      1   89.000000\n",
       "8   Casa particular (Cuba)      9    0.888889\n",
       "9           Boutique hotel     53   17.603774\n",
       "10             Condominium    399   28.200501\n",
       "11                  Chalet      2   16.000000\n",
       "12                    Boat      2   12.000000\n",
       "13   Pension (South Korea)      1   32.000000\n",
       "14                  Castle      1    0.000000\n",
       "15                   Hotel     26   12.615385\n",
       "16             Guest suite     81   50.666667\n",
       "17             Earth house      1    1.000000\n",
       "18               Farm stay      9   34.777778\n",
       "19                  Resort     11    8.909091\n",
       "20                Campsite      1   47.000000\n",
       "21               Apartment   3626   26.846111\n",
       "22       Bed and breakfast     69   14.623188\n",
       "23                   House    606   29.363036\n",
       "24                  Hostel     34   15.411765\n",
       "25                   Villa     32   13.093750\n",
       "26            Nature lodge      2   24.500000\n",
       "27               Houseboat      1    2.000000\n",
       "28               Treehouse      1  103.000000\n",
       "29                   Cabin     15   81.800000\n",
       "30                     Hut      1    4.000000\n",
       "31                 Cottage     20   47.750000\n",
       "32               Camper/RV      2    0.500000\n",
       "33              Guesthouse     50   59.040000\n",
       "34              Aparthotel     23   14.217391\n",
       "35               Townhouse    108   40.435185"
      ]
     },
     "execution_count": 9,
     "metadata": {},
     "output_type": "execute_result"
    }
   ],
   "source": [
    "#One can perform aggregations calculating the data count, sum, or average.\n",
    "aggsample=pd.json_normalize(airbnbcollection.aggregate(\n",
    "    [{\n",
    "    \"$group\" : \n",
    "        {\"_id\":\"$property_type\",\n",
    "         \"count\": {\"$sum\" : 1},\n",
    "         \"average\":{\"$avg\":\"$number_of_reviews\"}}}], \n",
    "        allowDiskUse = True)).rename(columns={\"_id\": \"Property_type\", \"count\": \"Count\", \"average\": \"Average\"})\n",
    "aggsample"
   ]
  },
  {
   "cell_type": "code",
   "execution_count": 10,
   "id": "be10f7fb-1f9a-41a9-91c7-4068fd9c2e16",
   "metadata": {},
   "outputs": [
    {
     "data": {
      "application/vnd.vegalite.v4+json": {
       "$schema": "https://vega.github.io/schema/vega-lite/v4.17.0.json",
       "config": {
        "view": {
         "continuousHeight": 300,
         "continuousWidth": 400
        }
       },
       "data": {
        "name": "data-7401fa85ff0677ec4e4cef6481e59ebd"
       },
       "datasets": {
        "data-7401fa85ff0677ec4e4cef6481e59ebd": [
         {
          "Average": 16.11111111111111,
          "Count": 18,
          "Property_type": "Other"
         },
         {
          "Average": 19,
          "Count": 1,
          "Property_type": "Barn"
         },
         {
          "Average": 0,
          "Count": 1,
          "Property_type": "Heritage hotel (India)"
         },
         {
          "Average": 40,
          "Count": 142,
          "Property_type": "Loft"
         },
         {
          "Average": 12.843243243243244,
          "Count": 185,
          "Property_type": "Serviced apartment"
         },
         {
          "Average": 18.428571428571427,
          "Count": 7,
          "Property_type": "Tiny house"
         },
         {
          "Average": 37.285714285714285,
          "Count": 14,
          "Property_type": "Bungalow"
         },
         {
          "Average": 89,
          "Count": 1,
          "Property_type": "Train"
         },
         {
          "Average": 0.8888888888888888,
          "Count": 9,
          "Property_type": "Casa particular (Cuba)"
         },
         {
          "Average": 17.60377358490566,
          "Count": 53,
          "Property_type": "Boutique hotel"
         },
         {
          "Average": 28.20050125313283,
          "Count": 399,
          "Property_type": "Condominium"
         },
         {
          "Average": 16,
          "Count": 2,
          "Property_type": "Chalet"
         },
         {
          "Average": 12,
          "Count": 2,
          "Property_type": "Boat"
         },
         {
          "Average": 32,
          "Count": 1,
          "Property_type": "Pension (South Korea)"
         },
         {
          "Average": 0,
          "Count": 1,
          "Property_type": "Castle"
         },
         {
          "Average": 12.615384615384615,
          "Count": 26,
          "Property_type": "Hotel"
         },
         {
          "Average": 50.666666666666664,
          "Count": 81,
          "Property_type": "Guest suite"
         },
         {
          "Average": 1,
          "Count": 1,
          "Property_type": "Earth house"
         },
         {
          "Average": 34.77777777777778,
          "Count": 9,
          "Property_type": "Farm stay"
         },
         {
          "Average": 8.909090909090908,
          "Count": 11,
          "Property_type": "Resort"
         },
         {
          "Average": 47,
          "Count": 1,
          "Property_type": "Campsite"
         },
         {
          "Average": 26.84611141753999,
          "Count": 3626,
          "Property_type": "Apartment"
         },
         {
          "Average": 14.623188405797102,
          "Count": 69,
          "Property_type": "Bed and breakfast"
         },
         {
          "Average": 29.363036303630363,
          "Count": 606,
          "Property_type": "House"
         },
         {
          "Average": 15.411764705882353,
          "Count": 34,
          "Property_type": "Hostel"
         },
         {
          "Average": 13.09375,
          "Count": 32,
          "Property_type": "Villa"
         },
         {
          "Average": 24.5,
          "Count": 2,
          "Property_type": "Nature lodge"
         },
         {
          "Average": 2,
          "Count": 1,
          "Property_type": "Houseboat"
         },
         {
          "Average": 103,
          "Count": 1,
          "Property_type": "Treehouse"
         },
         {
          "Average": 81.8,
          "Count": 15,
          "Property_type": "Cabin"
         },
         {
          "Average": 4,
          "Count": 1,
          "Property_type": "Hut"
         },
         {
          "Average": 47.75,
          "Count": 20,
          "Property_type": "Cottage"
         },
         {
          "Average": 0.5,
          "Count": 2,
          "Property_type": "Camper/RV"
         },
         {
          "Average": 59.04,
          "Count": 50,
          "Property_type": "Guesthouse"
         },
         {
          "Average": 14.217391304347826,
          "Count": 23,
          "Property_type": "Aparthotel"
         },
         {
          "Average": 40.43518518518518,
          "Count": 108,
          "Property_type": "Townhouse"
         }
        ]
       },
       "encoding": {
        "x": {
         "field": "Count",
         "type": "quantitative"
        },
        "y": {
         "field": "Property_type",
         "type": "nominal"
        }
       },
       "mark": "circle"
      },
      "image/png": "[encoded data removed]",
      "text/plain": [
       "<VegaLite 4 object>\n",
       "\n",
       "If you see this message, it means the renderer has not been properly enabled\n",
       "for the frontend that you are using. For more information, see\n",
       "https://altair-viz.github.io/user_guide/troubleshooting.html\n"
      ]
     },
     "execution_count": 10,
     "metadata": {},
     "output_type": "execute_result"
    }
   ],
   "source": [
    "#Let's do some charts with the aggregated data.\n",
    "alt.Chart(aggsample).mark_circle().encode(\n",
    "    x='Count:Q',\n",
    "    y='Property_type:N',)"
   ]
  },
  {
   "cell_type": "markdown",
   "id": "afaec035-cf8a-4251-a03a-c55dc05da738",
   "metadata": {},
   "source": [
    "One can perform optmized calculations with map and reduce. Let's do it!"
   ]
  },
  {
   "cell_type": "code",
   "execution_count": 11,
   "id": "2784e043-1a98-4d17-882b-d44a2bc16066",
   "metadata": {},
   "outputs": [],
   "source": [
    "map = Code(\"function(){emit(Math.floor(this.number_of_reviews), 1)}\")"
   ]
  },
  {
   "cell_type": "code",
   "execution_count": 12,
   "id": "923e1ea3-aaae-492c-b7dd-c8376aa9cd6a",
   "metadata": {},
   "outputs": [],
   "source": [
    "reduce = Code(\"function(id, counts){return Array.sum(counts)}\")"
   ]
  },
  {
   "cell_type": "code",
   "execution_count": 13,
   "id": "fa3badc1-7d38-4152-8c25-193c8607b098",
   "metadata": {},
   "outputs": [
    {
     "data": {
      "text/html": [
       "<div>\n",
       "<style scoped>\n",
       "    .dataframe tbody tr th:only-of-type {\n",
       "        vertical-align: middle;\n",
       "    }\n",
       "\n",
       "    .dataframe tbody tr th {\n",
       "        vertical-align: top;\n",
       "    }\n",
       "\n",
       "    .dataframe thead th {\n",
       "        text-align: right;\n",
       "    }\n",
       "</style>\n",
       "<table border=\"1\" class=\"dataframe\">\n",
       "  <thead>\n",
       "    <tr style=\"text-align: right;\">\n",
       "      <th></th>\n",
       "      <th>Number_of_reviews</th>\n",
       "      <th>Count</th>\n",
       "    </tr>\n",
       "  </thead>\n",
       "  <tbody>\n",
       "    <tr>\n",
       "      <th>241</th>\n",
       "      <td>0.0</td>\n",
       "      <td>1388.0</td>\n",
       "    </tr>\n",
       "    <tr>\n",
       "      <th>1</th>\n",
       "      <td>1.0</td>\n",
       "      <td>511.0</td>\n",
       "    </tr>\n",
       "    <tr>\n",
       "      <th>228</th>\n",
       "      <td>2.0</td>\n",
       "      <td>329.0</td>\n",
       "    </tr>\n",
       "    <tr>\n",
       "      <th>134</th>\n",
       "      <td>3.0</td>\n",
       "      <td>247.0</td>\n",
       "    </tr>\n",
       "    <tr>\n",
       "      <th>164</th>\n",
       "      <td>4.0</td>\n",
       "      <td>187.0</td>\n",
       "    </tr>\n",
       "    <tr>\n",
       "      <th>107</th>\n",
       "      <td>6.0</td>\n",
       "      <td>139.0</td>\n",
       "    </tr>\n",
       "    <tr>\n",
       "      <th>7</th>\n",
       "      <td>5.0</td>\n",
       "      <td>128.0</td>\n",
       "    </tr>\n",
       "    <tr>\n",
       "      <th>135</th>\n",
       "      <td>7.0</td>\n",
       "      <td>107.0</td>\n",
       "    </tr>\n",
       "    <tr>\n",
       "      <th>99</th>\n",
       "      <td>8.0</td>\n",
       "      <td>88.0</td>\n",
       "    </tr>\n",
       "    <tr>\n",
       "      <th>41</th>\n",
       "      <td>12.0</td>\n",
       "      <td>71.0</td>\n",
       "    </tr>\n",
       "  </tbody>\n",
       "</table>\n",
       "</div>"
      ],
      "text/plain": [
       "     Number_of_reviews   Count\n",
       "241                0.0  1388.0\n",
       "1                  1.0   511.0\n",
       "228                2.0   329.0\n",
       "134                3.0   247.0\n",
       "164                4.0   187.0\n",
       "107                6.0   139.0\n",
       "7                  5.0   128.0\n",
       "135                7.0   107.0\n",
       "99                 8.0    88.0\n",
       "41                12.0    71.0"
      ]
     },
     "execution_count": 13,
     "metadata": {},
     "output_type": "execute_result"
    }
   ],
   "source": [
    "result = pd.json_normalize(airbnbcollection.map_reduce(map, reduce, \"myresults\").find()).\\\n",
    "            rename(columns={\"_id\": \"Number_of_reviews\", \"value\": \"Count\"}).\\\n",
    "            sort_values('Count', ascending=False).head(10)\n",
    "result"
   ]
  },
  {
   "cell_type": "code",
   "execution_count": 14,
   "id": "9f0798f9-8415-47d8-9c7a-ee082f58d679",
   "metadata": {},
   "outputs": [
    {
     "data": {
      "application/vnd.vegalite.v4+json": {
       "$schema": "https://vega.github.io/schema/vega-lite/v4.17.0.json",
       "config": {
        "view": {
         "continuousHeight": 300,
         "continuousWidth": 400
        }
       },
       "data": {
        "name": "data-ce0aa57a2942cf02bca82a7ee31ed9c8"
       },
       "datasets": {
        "data-ce0aa57a2942cf02bca82a7ee31ed9c8": [
         {
          "Count": 1388,
          "Number_of_reviews": 0
         },
         {
          "Count": 511,
          "Number_of_reviews": 1
         },
         {
          "Count": 329,
          "Number_of_reviews": 2
         },
         {
          "Count": 247,
          "Number_of_reviews": 3
         },
         {
          "Count": 187,
          "Number_of_reviews": 4
         },
         {
          "Count": 139,
          "Number_of_reviews": 6
         },
         {
          "Count": 128,
          "Number_of_reviews": 5
         },
         {
          "Count": 107,
          "Number_of_reviews": 7
         },
         {
          "Count": 88,
          "Number_of_reviews": 8
         },
         {
          "Count": 71,
          "Number_of_reviews": 12
         }
        ]
       },
       "encoding": {
        "x": {
         "field": "Number_of_reviews",
         "type": "nominal"
        },
        "y": {
         "field": "Count",
         "type": "quantitative"
        }
       },
       "mark": "bar"
      },
      "image/png": "[encoded data removed]",
      "text/plain": [
       "<VegaLite 4 object>\n",
       "\n",
       "If you see this message, it means the renderer has not been properly enabled\n",
       "for the frontend that you are using. For more information, see\n",
       "https://altair-viz.github.io/user_guide/troubleshooting.html\n"
      ]
     },
     "execution_count": 14,
     "metadata": {},
     "output_type": "execute_result"
    }
   ],
   "source": [
    "#Let's make some graphics with the calculated data.\n",
    "alt.Chart(result).mark_bar().encode(\n",
    "    x='Number_of_reviews:N',\n",
    "    y='Count:Q',)"
   ]
  },
  {
   "cell_type": "markdown",
   "id": "4049a876-870b-44e8-8182-bbded9f17b1a",
   "metadata": {},
   "source": [
    "Let's count the number of Airbnb properties by how many bedrooms."
   ]
  },
  {
   "cell_type": "code",
   "execution_count": 15,
   "id": "bcc774cb-2b41-43ec-9782-248940571f42",
   "metadata": {},
   "outputs": [],
   "source": [
    "map = Code(\"function(){emit(Math.floor(this.bedrooms), 1)}\")"
   ]
  },
  {
   "cell_type": "code",
   "execution_count": 16,
   "id": "3e147649-0b56-49eb-8330-3f241d8cbbf4",
   "metadata": {},
   "outputs": [],
   "source": [
    "reduce = Code(\"function(id, counts){return Array.sum(counts)}\")"
   ]
  },
  {
   "cell_type": "code",
   "execution_count": 17,
   "id": "503712bf-90bf-4a45-a15d-ea4cbfc4cd3d",
   "metadata": {},
   "outputs": [
    {
     "data": {
      "text/html": [
       "<div>\n",
       "<style scoped>\n",
       "    .dataframe tbody tr th:only-of-type {\n",
       "        vertical-align: middle;\n",
       "    }\n",
       "\n",
       "    .dataframe tbody tr th {\n",
       "        vertical-align: top;\n",
       "    }\n",
       "\n",
       "    .dataframe thead th {\n",
       "        text-align: right;\n",
       "    }\n",
       "</style>\n",
       "<table border=\"1\" class=\"dataframe\">\n",
       "  <thead>\n",
       "    <tr style=\"text-align: right;\">\n",
       "      <th></th>\n",
       "      <th>Number_of_bedrooms</th>\n",
       "      <th>Count</th>\n",
       "    </tr>\n",
       "  </thead>\n",
       "  <tbody>\n",
       "    <tr>\n",
       "      <th>5</th>\n",
       "      <td>1.0</td>\n",
       "      <td>3308.0</td>\n",
       "    </tr>\n",
       "    <tr>\n",
       "      <th>9</th>\n",
       "      <td>2.0</td>\n",
       "      <td>1090.0</td>\n",
       "    </tr>\n",
       "    <tr>\n",
       "      <th>11</th>\n",
       "      <td>0.0</td>\n",
       "      <td>496.0</td>\n",
       "    </tr>\n",
       "    <tr>\n",
       "      <th>8</th>\n",
       "      <td>3.0</td>\n",
       "      <td>427.0</td>\n",
       "    </tr>\n",
       "    <tr>\n",
       "      <th>4</th>\n",
       "      <td>4.0</td>\n",
       "      <td>161.0</td>\n",
       "    </tr>\n",
       "    <tr>\n",
       "      <th>10</th>\n",
       "      <td>5.0</td>\n",
       "      <td>36.0</td>\n",
       "    </tr>\n",
       "    <tr>\n",
       "      <th>0</th>\n",
       "      <td>6.0</td>\n",
       "      <td>16.0</td>\n",
       "    </tr>\n",
       "    <tr>\n",
       "      <th>12</th>\n",
       "      <td>7.0</td>\n",
       "      <td>7.0</td>\n",
       "    </tr>\n",
       "    <tr>\n",
       "      <th>3</th>\n",
       "      <td>8.0</td>\n",
       "      <td>3.0</td>\n",
       "    </tr>\n",
       "    <tr>\n",
       "      <th>2</th>\n",
       "      <td>10.0</td>\n",
       "      <td>2.0</td>\n",
       "    </tr>\n",
       "    <tr>\n",
       "      <th>6</th>\n",
       "      <td>9.0</td>\n",
       "      <td>2.0</td>\n",
       "    </tr>\n",
       "    <tr>\n",
       "      <th>1</th>\n",
       "      <td>20.0</td>\n",
       "      <td>1.0</td>\n",
       "    </tr>\n",
       "    <tr>\n",
       "      <th>7</th>\n",
       "      <td>15.0</td>\n",
       "      <td>1.0</td>\n",
       "    </tr>\n",
       "  </tbody>\n",
       "</table>\n",
       "</div>"
      ],
      "text/plain": [
       "    Number_of_bedrooms   Count\n",
       "5                  1.0  3308.0\n",
       "9                  2.0  1090.0\n",
       "11                 0.0   496.0\n",
       "8                  3.0   427.0\n",
       "4                  4.0   161.0\n",
       "10                 5.0    36.0\n",
       "0                  6.0    16.0\n",
       "12                 7.0     7.0\n",
       "3                  8.0     3.0\n",
       "2                 10.0     2.0\n",
       "6                  9.0     2.0\n",
       "1                 20.0     1.0\n",
       "7                 15.0     1.0"
      ]
     },
     "execution_count": 17,
     "metadata": {},
     "output_type": "execute_result"
    }
   ],
   "source": [
    "result = pd.json_normalize(airbnbcollection.map_reduce(map, reduce, \"myresults\").find()).\\\n",
    "            rename(columns={\"_id\": \"Number_of_bedrooms\", \"value\": \"Count\"}).dropna().\\\n",
    "            sort_values('Count', ascending=False)\n",
    "result"
   ]
  },
  {
   "cell_type": "code",
   "execution_count": 18,
   "id": "e631fd81-4ace-4c65-b7cf-a4c47698e3a5",
   "metadata": {},
   "outputs": [
    {
     "data": {
      "application/vnd.vegalite.v4+json": {
       "$schema": "https://vega.github.io/schema/vega-lite/v4.17.0.json",
       "config": {
        "view": {
         "continuousHeight": 300,
         "continuousWidth": 400
        }
       },
       "data": {
        "name": "data-19d86a2b993b0d1d2fa5ca119ae3255a"
       },
       "datasets": {
        "data-19d86a2b993b0d1d2fa5ca119ae3255a": [
         {
          "Count": 3308,
          "Number_of_bedrooms": 1
         },
         {
          "Count": 1090,
          "Number_of_bedrooms": 2
         },
         {
          "Count": 496,
          "Number_of_bedrooms": 0
         },
         {
          "Count": 427,
          "Number_of_bedrooms": 3
         },
         {
          "Count": 161,
          "Number_of_bedrooms": 4
         },
         {
          "Count": 36,
          "Number_of_bedrooms": 5
         },
         {
          "Count": 16,
          "Number_of_bedrooms": 6
         },
         {
          "Count": 7,
          "Number_of_bedrooms": 7
         },
         {
          "Count": 3,
          "Number_of_bedrooms": 8
         },
         {
          "Count": 2,
          "Number_of_bedrooms": 10
         },
         {
          "Count": 2,
          "Number_of_bedrooms": 9
         },
         {
          "Count": 1,
          "Number_of_bedrooms": 20
         },
         {
          "Count": 1,
          "Number_of_bedrooms": 15
         }
        ]
       },
       "encoding": {
        "x": {
         "field": "Number_of_bedrooms",
         "type": "nominal"
        },
        "y": {
         "field": "Count",
         "type": "quantitative"
        }
       },
       "mark": "bar"
      },
      "image/png": "[encoded data removed]",
      "text/plain": [
       "<VegaLite 4 object>\n",
       "\n",
       "If you see this message, it means the renderer has not been properly enabled\n",
       "for the frontend that you are using. For more information, see\n",
       "https://altair-viz.github.io/user_guide/troubleshooting.html\n"
      ]
     },
     "execution_count": 18,
     "metadata": {},
     "output_type": "execute_result"
    }
   ],
   "source": [
    "#Let's make a simple graphic.\n",
    "alt.Chart(result).mark_bar().encode(\n",
    "    x='Number_of_bedrooms:N',\n",
    "    y='Count:Q',)"
   ]
  }
 ],
 "metadata": {
  "kernelspec": {
   "display_name": "Python 3 (ipykernel)",
   "language": "python",
   "name": "python3"
  },
  "language_info": {
   "codemirror_mode": {
    "name": "ipython",
    "version": 3
   },
   "file_extension": ".py",
   "mimetype": "text/x-python",
   "name": "python",
   "nbconvert_exporter": "python",
   "pygments_lexer": "ipython3",
   "version": "3.10.9"
  }
 },
 "nbformat": 4,
 "nbformat_minor": 5
}
